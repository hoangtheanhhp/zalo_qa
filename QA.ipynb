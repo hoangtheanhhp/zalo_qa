{
  "nbformat": 4,
  "nbformat_minor": 0,
  "metadata": {
    "colab": {
      "name": "Untitled0.ipynb",
      "provenance": [],
      "authorship_tag": "ABX9TyPosyq/br1NtCEgePlaedci",
      "include_colab_link": true
    },
    "kernelspec": {
      "name": "python3",
      "display_name": "Python 3"
    }
  },
  "cells": [
    {
      "cell_type": "markdown",
      "metadata": {
        "id": "view-in-github",
        "colab_type": "text"
      },
      "source": [
        "<a href=\"https://colab.research.google.com/github/hoangtheanhhp/zalo_qa/blob/master/QA.ipynb\" target=\"_parent\"><img src=\"https://colab.research.google.com/assets/colab-badge.svg\" alt=\"Open In Colab\"/></a>"
      ]
    },
    {
      "cell_type": "code",
      "metadata": {
        "id": "x7_t91ewlwKs",
        "colab_type": "code",
        "colab": {}
      },
      "source": [
        "from google.colab import drive\n",
        "drive.mount('/content/drive')"
      ],
      "execution_count": null,
      "outputs": []
    },
    {
      "cell_type": "code",
      "metadata": {
        "id": "sXQpjNDelk_d",
        "colab_type": "code",
        "colab": {}
      },
      "source": [
        "# Clone BERT repo and add bert in system path\n",
        "!test -d zalo_qa || git clone https://github.com/hoangtheanhhp/zalo_qa\n",
        "!mv /content/zalo_qa/*  /content/\n",
        "!cp -r \"/content/drive/My Drive/ZaloAI/resources\" /content/\n",
        "!rm zalo_qa"
      ],
      "execution_count": null,
      "outputs": []
    },
    {
      "cell_type": "code",
      "metadata": {
        "id": "tsOSLXillEg8",
        "colab_type": "code",
        "colab": {}
      },
      "source": [
        "!pip install -r requirements.txt\n",
        "from gg_search import GoogleSearch\n",
        "from relevance_ranking import rel_ranking\n",
        "from reader import Reader\n",
        "reader = Reader()\n",
        "ggsearch = GoogleSearch()\n"
      ],
      "execution_count": null,
      "outputs": []
    },
    {
      "cell_type": "code",
      "metadata": {
        "id": "lPu7Jfk-lcHb",
        "colab_type": "code",
        "colab": {}
      },
      "source": [
        "question = 'ai là người giàu nhất Việt Nam'\n",
        "links, documents = ggsearch.search(question)\n",
        "print(links, documents)\n",
        "for i in range(0,min(len(documents),5)):\n",
        "    print(\"Document\", i)\n",
        "    print(\"Link:\", links[i])\n",
        "    print(\"Sample content:\\n\", documents[i][:500],'.....')\n",
        "    print('\\n------------------------------\\n')\n",
        "passages = rel_ranking(question,documents)\n",
        "for i in range(0, min(len(passages),5)):\n",
        "    print('Passage ranked', i + 1,'\\n')\n",
        "    print(passages[i])\n",
        "    print('\\n------------------------------\\n')\n",
        "# Select top 40 paragraphs\n",
        "passages = passages[:40]\n",
        "answers = reader.getPredictions(question,passages)\n",
        "answers = [[passages[i], answers[i][0],answers[i][1]] for i in range(0,len(answers))]\n",
        "answers = [a for a in answers if a[1] != '']\n",
        "answers.sort(key = lambda x : x[2],reverse=True)\n",
        "for i in range(0,min(5,len(answers))):\n",
        "    print(\"Passage: \", answers[i][0])\n",
        "    print(\"Answer : \", answers[i][1])\n",
        "    print(\"Score  : \", answers[i][2])\n",
        "    print('\\n')\n",
        "print(\"Final answer: \", answers[0][1])"
      ],
      "execution_count": null,
      "outputs": []
    }
  ]
}